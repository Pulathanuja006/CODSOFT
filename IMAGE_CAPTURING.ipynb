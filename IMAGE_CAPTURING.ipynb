{
  "nbformat": 4,
  "nbformat_minor": 0,
  "metadata": {
    "colab": {
      "private_outputs": true,
      "provenance": [],
      "authorship_tag": "ABX9TyPjbPZquVyxAO/LGARDlpPT",
      "include_colab_link": true
    },
    "kernelspec": {
      "name": "python3",
      "display_name": "Python 3"
    },
    "language_info": {
      "name": "python"
    }
  },
  "cells": [
    {
      "cell_type": "markdown",
      "metadata": {
        "id": "view-in-github",
        "colab_type": "text"
      },
      "source": [
        "<a href=\"https://colab.research.google.com/github/Pulathanuja006/CODSOFT/blob/main/IMAGE_CAPTURING.ipynb\" target=\"_parent\"><img src=\"https://colab.research.google.com/assets/colab-badge.svg\" alt=\"Open In Colab\"/></a>"
      ]
    },
    {
      "cell_type": "code",
      "execution_count": null,
      "metadata": {
        "id": "VCBk5Lk9hrR2"
      },
      "outputs": [],
      "source": [
        "import tensorflow as tf\n",
        "from tensorflow.keras.preprocessing import image\n",
        "from tensorflow.keras.applications.resnet50 import preprocess_input\n",
        "from tensorflow.keras.applications import ResNet50\n",
        "from tensorflow.keras.models import Model\n",
        "from tensorflow.keras.layers import Input, Dense, Embedding, LSTM\n",
        "from tensorflow.keras.preprocessing.text import Tokenizer\n",
        "from tensorflow.keras.preprocessing.sequence import pad_sequences\n",
        "from nltk.translate.bleu_score import corpus_bleu\n",
        "import numpy as np\n",
        "from PIL import Image\n",
        "import os\n",
        "\n",
        "# Define your dataset and captions\n",
        "captions = [...]  # Replace with your captions\n",
        "image_data = [...]  # Replace with your image data\n",
        "\n",
        "# Load pre-trained ResNet model without top (classification) layer\n",
        "base_model = ResNet50(weights='imagenet', include_top=False, input_tensor=Input(shape=(224, 224, 3)))\n",
        "\n",
        "# Freeze the convolutional layers\n",
        "for layer in base_model.layers:\n",
        "    layer.trainable = False\n",
        "\n",
        "import tensorflow as tf\n",
        "from tensorflow.keras.preprocessing import image\n",
        "from tensorflow.keras.applications.resnet50 import preprocess_input\n",
        "from tensorflow.keras.applications import ResNet50\n",
        "from tensorflow.keras.models import Model\n",
        "from tensorflow.keras.layers import Input, Dense, Embedding, LSTM\n",
        "from tensorflow.keras.preprocessing.text import Tokenizer\n",
        "from tensorflow.keras.preprocessing.sequence import pad_sequences\n",
        "from nltk.translate.bleu_score import corpus_bleu\n",
        "import numpy as np\n",
        "from PIL import Image\n",
        "import os\n",
        "\n",
        "# Define your dataset and captions\n",
        "captions = [...]  # Replace with your captions\n",
        "image_data = [...]  # Replace with your image data\n",
        "\n",
        "# Load pre-trained ResNet model without top (classification) layer\n",
        "base_model = ResNet50(weights='imagenet', include_top=False, input_tensor=Input(shape=(224, 224, 3)))\n",
        "\n",
        "# Freeze the convolutional layers\n",
        "for layer in base_model.layers:\n",
        "    layer.trainable = False\n",
        "\n",
        "# Define the image captioning model\n",
        "vocab_size = 10000  # Define your vocabulary size\n",
        "embedding_dim = 256  # Define your embedding dimension\n",
        "max_seq_length = 20  # Define your maximum sequence length\n",
        "\n",
        "image_input = Input(shape=(224, 224, 3))\n",
        "encoded_image = base_model(image_input)\n",
        "flatten = tf.keras.layers.Flatten()(encoded_image)\n",
        "dense = Dense(256, activation='relu')(flatten)\n",
        "\n",
        "caption_input = Input(shape=(max_seq_length,))\n",
        "embedding_layer = Embedding(vocab_size, embedding_dim, input_length=max_seq_length)(caption_input)\n",
        "lstm_layer = LSTM(256)(embedding_layer)\n",
        "\n",
        "decoder = tf.keras.layers.add([dense, lstm_layer])\n",
        "output = Dense(vocab_size, activation='softmax')(decoder)\n",
        "\n",
        "model = Model(inputs=[image_input, caption_input], outputs=output)\n",
        "model.compile(loss='categorical_crossentropy', optimizer='adam')\n",
        "\n",
        "# Print the model summary\n",
        "model.summary()\n",
        "\n",
        "# Tokenize"
      ]
    },
    {
      "cell_type": "code",
      "source": [],
      "metadata": {
        "id": "V2H1dfchiLeD"
      },
      "execution_count": null,
      "outputs": []
    }
  ]
}